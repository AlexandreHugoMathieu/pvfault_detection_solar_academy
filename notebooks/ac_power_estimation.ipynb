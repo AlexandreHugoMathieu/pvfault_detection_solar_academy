{
 "cells": [
  {
   "cell_type": "markdown",
   "id": "39853ed8-0741-48fa-b381-381f3b75e3b7",
   "metadata": {},
   "source": [
    "# AC Power estimation"
   ]
  },
  {
   "cell_type": "markdown",
   "id": "2e08a8d7-fdd6-44ea-9341-60e6228a3efb",
   "metadata": {},
   "source": [
    "<table>\n",
    "  <tr>\n",
    "    <td><img src=\"https://raw.githubusercontent.com/AlexandreHugoMathieu/pvfault_detection_solar_academy/refs/heads/master/notebooks/logos/CSTB_logo.jpg\" width=\"200\" />\n",
    "    <td><img src=\"https://raw.githubusercontent.com/AlexandreHugoMathieu/pvfault_detection_solar_academy/refs/heads/master/notebooks/logos/Heliocity_logo.png\" width=\"200\" /> \n",
    "    <td><img src=\"https://raw.githubusercontent.com/AlexandreHugoMathieu/pvfault_detection_solar_academy/refs/heads/master/notebooks/logos/USMB_logo_horizontal.png\" width=\"200\" />\n",
    "  </tr>\n",
    "</table>\n",
    "\n",
    "<sub>Author: Alexandre MATHIEU, Phd Student, in collaboration Heliocity / CSTB / USMB (LOCIE). </sub>\n",
    "<sub>Phd thesis: Methodology development to guarantee building photovoltaic systems' performance including failure modelling</sub>"
   ]
  },
  {
   "cell_type": "markdown",
   "id": "fe165be3-040c-4cbb-b1aa-65efa9943ef9",
   "metadata": {},
   "source": [
    "This notebook introduces some tools to estimate the AC power production of a PV installation.\n",
    "\n",
    "It is broken down into three parts:\n",
    "\n",
    "1. **Data visualization**: Exploration of weather and PV data\n",
    "2. **POA irradiance, temperature, and Power modeling**: Estimation temperature/DC power and comparison to real values.\n",
    "3. **PR calculation**\n",
    "\n",
    "\n",
    "The first part is used to introduce the subject and the attendees are expected to collaborate and develop detection methods in the parts 2 & 3.\n",
    "\n",
    "**Make sure to manually execute the cells (ctrl + enter) yourself one by one**"
   ]
  },
  {
   "cell_type": "markdown",
   "id": "c114311e",
   "metadata": {},
   "source": [
    "Data: Scenario 1 from the 2021 PVPMC blind comparison"
   ]
  },
  {
   "cell_type": "markdown",
   "id": "bebf2b4a",
   "metadata": {},
   "source": [
    "##### Caracteristics of the PV installation:\n",
    "- 12 modules in series\n",
    "- tilt: 35° \n",
    "- azimuth: 180° (south)\n",
    "- albedo: 0.2 (assumption)\n",
    "\n",
    "#####  Module datasheet\n",
    "- 325 Wp\n",
    "- Thermal (power) coefficient: -2.58 % /°C \n",
    "- NOCT: 43 °C\n",
    "\n",
    "#####  Generic temperature oefficients for open-rack PV installation\n",
    "- u_0 = 26.9 W/(˚C.m2)\n",
    "- u_1 = 6.2 W.s/(˚C.m3)"
   ]
  },
  {
   "cell_type": "markdown",
   "id": "f86d2b9c-27da-423b-aaaf-b7fb49bb7373",
   "metadata": {},
   "source": [
    "## I. Data vizualization"
   ]
  },
  {
   "cell_type": "code",
   "execution_count": null,
   "id": "001330d0-0a83-48cf-b612-8465183f7744",
   "metadata": {},
   "outputs": [],
   "source": [
    "# Please execute this cell to import packages\n",
    "import pandas as pd\n",
    "import numpy as np\n",
    "import matplotlib.pyplot as plt"
   ]
  },
  {
   "cell_type": "markdown",
   "id": "6b5af36a-e4e2-416e-a901-d0c427e423c7",
   "metadata": {},
   "source": [
    "## I.1. In-situ weather data\n",
    "\n",
    "Below is the weather inputs of the models to estimate the DC production. \n",
    "\n",
    "Execute the cell below to import it !"
   ]
  },
  {
   "cell_type": "code",
   "execution_count": null,
   "id": "d9542de8-0558-41b1-b31b-44c7d74d2caf",
   "metadata": {},
   "outputs": [],
   "source": [
    "# Load satellite weather data: incident irradiation, direct irradiation, temperature, wind from online file\n",
    "url=\"https://raw.githubusercontent.com/AlexandreHugoMathieu/pvfault_detection_solar_academy/refs/heads/master/data/xtrain.csv\"\n",
    "weather_data = pd.read_csv(url, index_col=0) # Import a csv file from an url and fix the first column (0) as pandas index\n",
    "weather_data.index = pd.to_datetime(weather_data.index) # Convert index to \"datetime\" index (to make it easier to manipulate)\n",
    "print(weather_data.head(10)) # Show the first 10 lines"
   ]
  },
  {
   "cell_type": "markdown",
   "id": "9dbf029e",
   "metadata": {},
   "source": [
    "Visualize the data with the plot below ! (Execute the cell)"
   ]
  },
  {
   "cell_type": "code",
   "execution_count": null,
   "id": "206d2d00-3bfd-4870-9c1b-10cb2685417f",
   "metadata": {},
   "outputs": [],
   "source": [
    "# Make a figure with two axes (two figures top/bottom) which share the same x axis\n",
    "fig, (ax1, ax2) = plt.subplots(2, 1, figsize=(9,6), sharex=True) \n",
    "\n",
    "\n",
    "# Show the Ambient temperature on the first axis \"ax1\" with a title and a temperature\n",
    "weather_data[\"temp_air\"].plot(ax=ax1, title=\"Ambient temperature [°C] as function of time\",ylabel=\"Temperature [°C]\")\n",
    "\n",
    "# Show the three irradiance components on the second axis \"ax2\" [GHI, DHI, DNI]\n",
    "meteo_plot = weather_data[[\"ghi\",\"dhi\", \"dni\"]] # Get the three relevant columns from the dataframe\n",
    "meteo_plot.plot(ax=ax2, title=\"Irradiation [W/m2] as function of time\", ylabel=\"Irradiation [W/m2]\")\n",
    "\n",
    "plt.tight_layout() # Resize automatically the figure to make it *pretty*"
   ]
  },
  {
   "cell_type": "markdown",
   "id": "3e4334b5-db46-4aeb-a6c2-6b5c00b633ca",
   "metadata": {},
   "source": [
    "## II. DC power estimation"
   ]
  },
  {
   "cell_type": "markdown",
   "id": "c01fc47d-e448-49f4-aa0f-b6d478dc5564",
   "metadata": {},
   "source": [
    "Modeling PV power from ghi/dhi/dni goes into four steps:\n",
    "\n",
    "1. Modeling the POA irradiance.\n",
    "2. Modeling the module cell temperature. \n",
    "3. Modeling the installation power production.\n",
    "4. Modeling the installation inverter efficiency.\n"
   ]
  },
  {
   "cell_type": "markdown",
   "id": "7c4702cb-a14a-4103-8cae-dcb584ca9b1a",
   "metadata": {},
   "source": [
    "### II.1. POA irradiance"
   ]
  },
  {
   "cell_type": "markdown",
   "id": "da61aacb-0402-414b-88da-4911299bd0e1",
   "metadata": {},
   "source": [
    "#### Exercice\n",
    "\n",
    "Calculate the POA irradiance with the no-shading/isotropic assumption as introduced in the notebook \"python_intro_poa\""
   ]
  },
  {
   "cell_type": "code",
   "execution_count": null,
   "id": "be98750e-4374-4ea8-89b1-f7e586ecb716",
   "metadata": {},
   "outputs": [],
   "source": [
    "# Develop your code here"
   ]
  },
  {
   "cell_type": "markdown",
   "id": "b686a7c2-a1f8-4d23-a96c-2511db4b2b9a",
   "metadata": {},
   "source": [
    "### II.2. Cell temperature model"
   ]
  },
  {
   "cell_type": "markdown",
   "id": "68ff0ed3-09db-4f0b-8481-12b7af90a878",
   "metadata": {},
   "source": [
    "#### Exercice\n",
    "\n",
    "Calculate the module temperature with, both, the Ross or Faiman model"
   ]
  },
  {
   "cell_type": "code",
   "execution_count": null,
   "id": "fb0e08b2-c5f7-4b93-aeca-a714cae3d037",
   "metadata": {},
   "outputs": [],
   "source": [
    "# Develop your code here"
   ]
  },
  {
   "cell_type": "markdown",
   "id": "e2d05471-57af-4a55-8094-5a3ee80eadda",
   "metadata": {},
   "source": [
    "### II.3. DC power model"
   ]
  },
  {
   "cell_type": "markdown",
   "id": "9618c71d-b1ea-4c4c-afbf-6d884bda0d0d",
   "metadata": {},
   "source": [
    "#### Exercice\n",
    "\n",
    "Calculate the DC power with the PVwatts or Huld model"
   ]
  },
  {
   "cell_type": "code",
   "execution_count": null,
   "id": "caa14010-1f73-4008-aef3-1fc741ef8ac2",
   "metadata": {},
   "outputs": [],
   "source": [
    "# Develop your code here"
   ]
  },
  {
   "cell_type": "markdown",
   "id": "5936319f-40fc-44f5-8396-aecb3474593d",
   "metadata": {},
   "source": [
    "### II.4. AC power model\n",
    "\n"
   ]
  },
  {
   "cell_type": "markdown",
   "id": "f609c055",
   "metadata": {},
   "source": [
    "#### Exercice\n",
    "\n",
    "Calculate the AC power with the PVWatts inverter model (create a function for that purpose !)"
   ]
  },
  {
   "cell_type": "code",
   "execution_count": null,
   "id": "86df46e7-a7b3-489b-94cc-17cec182d58b",
   "metadata": {},
   "outputs": [],
   "source": [
    "# Develop your code here"
   ]
  },
  {
   "cell_type": "markdown",
   "id": "09613917-3c2d-4a09-b8a4-b83cc7e5119d",
   "metadata": {},
   "source": [
    "### III. Performance Ratio calculation\n",
    "\n",
    "In this section, the performance and the model accuracies are assessed."
   ]
  },
  {
   "cell_type": "markdown",
   "id": "5e5a9b4e",
   "metadata": {},
   "source": [
    "Actuals are imported in this section by executing the cell below.\n",
    "\n",
    "g_poa: Global irradiance [W/m²]\n",
    "\n",
    "t_mod: Module Temperature [°C]\n",
    "\n",
    "pdc: DC power [W]"
   ]
  },
  {
   "cell_type": "code",
   "execution_count": null,
   "id": "da8b69da-ae64-4112-b13e-345a97ee0ea4",
   "metadata": {},
   "outputs": [],
   "source": [
    "# Load actual data\n",
    "url = \"https://raw.githubusercontent.com/AlexandreHugoMathieu/pvfault_detection_solar_academy/refs/heads/master/data/ytrain.csv\"\n",
    "actual = pd.read_csv(url, index_col=0) \n",
    "actual.index = pd.to_datetime(actual.index)\n",
    "print(actual.head(10))"
   ]
  },
  {
   "cell_type": "markdown",
   "id": "6af0239e",
   "metadata": {},
   "source": [
    "#### Exercice\n",
    "\n",
    "Calculate the PR and the Energy Performance Index"
   ]
  },
  {
   "cell_type": "code",
   "execution_count": null,
   "id": "0fc31e35",
   "metadata": {},
   "outputs": [],
   "source": [
    "# Develop your code here"
   ]
  },
  {
   "cell_type": "code",
   "execution_count": null,
   "id": "2c85ed0f",
   "metadata": {},
   "outputs": [],
   "source": [
    "# Develop your code here"
   ]
  },
  {
   "cell_type": "markdown",
   "id": "299a7db2",
   "metadata": {},
   "source": [
    "#### Exercice, to go further \n",
    "\n",
    "- What is the accuracy of the values compared to the real values imported below ? \n",
    "\n",
    "Calculate the Mean Error and Mean Absolute Error"
   ]
  },
  {
   "cell_type": "code",
   "execution_count": null,
   "id": "94d81250-0d33-4089-b221-bf7b6abcba6a",
   "metadata": {},
   "outputs": [],
   "source": [
    "# Develop your code here"
   ]
  },
  {
   "cell_type": "code",
   "execution_count": null,
   "id": "a62405dc-d677-4419-8a0d-dea12fd651ee",
   "metadata": {},
   "outputs": [],
   "source": [
    "# Develop your code here"
   ]
  }
 ],
 "metadata": {
  "kernelspec": {
   "display_name": "Python 3 (ipykernel)",
   "language": "python",
   "name": "python3"
  },
  "language_info": {
   "codemirror_mode": {
    "name": "ipython",
    "version": 3
   },
   "file_extension": ".py",
   "mimetype": "text/x-python",
   "name": "python",
   "nbconvert_exporter": "python",
   "pygments_lexer": "ipython3",
   "version": "3.9.13"
  }
 },
 "nbformat": 4,
 "nbformat_minor": 5
}
