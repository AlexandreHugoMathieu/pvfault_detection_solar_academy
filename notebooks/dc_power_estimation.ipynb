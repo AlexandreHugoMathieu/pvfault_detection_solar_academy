{
 "cells": [
  {
   "cell_type": "markdown",
   "id": "39853ed8-0741-48fa-b381-381f3b75e3b7",
   "metadata": {},
   "source": [
    "# DC Power estimation"
   ]
  },
  {
   "cell_type": "markdown",
   "id": "2e08a8d7-fdd6-44ea-9341-60e6228a3efb",
   "metadata": {},
   "source": [
    "<table>\n",
    "  <tr>\n",
    "    <td><img src=\"logos/CSTB_logo.jpg\" width=\"200\" />\n",
    "    <td><img src=\"logos/Heliocity_logo.png\" width=\"200\" /> \n",
    "    <td><img src=\"logos/USMB_logo_horizontal.png\" width=\"200\" />\n",
    "  </tr>\n",
    "</table>\n",
    "\n",
    "<sub>Author: Alexandre MATHIEU, Phd Student, in collaboration Heliocity / CSTB / USMB (LOCIE). </sub>\n",
    "<sub>Phd thesis: Methodology development to guarantee building photovoltaic systems' performance including failure modelling</sub>"
   ]
  },
  {
   "cell_type": "markdown",
   "id": "fe165be3-040c-4cbb-b1aa-65efa9943ef9",
   "metadata": {},
   "source": [
    "This notebook introduces some tools to model the DC power production of PV installation.\n",
    "\n",
    "It is broken down into three parts:\n",
    "\n",
    "1. **Data visualization**: Exploration of weather and PV data\n",
    "2. **POA irradiance, temperature, and Power modeling**: Estimation temperature/DC power and comparison to real values.\n",
    "\n",
    "The attendees are very much welcome to modify and create/execute some new notebook cells to explore data and try out new methods.\n",
    "\n",
    "The two first parts are used to introduce the subject and the attendees are expected to collaborate and develop detection methods in the part 3. \n",
    "\n",
    "**Make sure to manually execute the cells (ctrl + enter) yourself one by one**\n",
    "\n",
    "The measured data has been downloaded from the Scenario S1, Alburquerque USA, of the PVPMC blind comparison, 2021."
   ]
  },
  {
   "cell_type": "markdown",
   "id": "f86d2b9c-27da-423b-aaaf-b7fb49bb7373",
   "metadata": {},
   "source": [
    "## 1. Data vizualization"
   ]
  },
  {
   "cell_type": "code",
   "execution_count": null,
   "id": "001330d0-0a83-48cf-b612-8465183f7744",
   "metadata": {},
   "outputs": [],
   "source": [
    "# Please execute this cell to import packages\n",
    "import os\n",
    "import sys\n",
    "\n",
    "import pandas as pd\n",
    "import numpy as np\n",
    "import matplotlib.pyplot as plt\n",
    "\n",
    "from pathlib import Path\n",
    "\n",
    "# Change the directory path to import functions from local modules\n",
    "if not 'workbookDir' in globals():\n",
    "    workbookDir = Path(os.getcwd()).parent\n",
    "print('Work directory: ' + str(workbookDir))\n",
    "os.chdir(workbookDir)\n",
    "\n",
    "from src.config import DATA_PATH # Directory ROOT path\n",
    "from src.utils.helio_fmt import setup_helio_plt\n",
    "setup_helio_plt() # set plot format and font\n"
   ]
  },
  {
   "cell_type": "markdown",
   "id": "6b5af36a-e4e2-416e-a901-d0c427e423c7",
   "metadata": {},
   "source": [
    "## 1.1. In-situ weather data\n",
    "\n",
    "Below is the weather inputs of the models to estimate the DC production."
   ]
  },
  {
   "cell_type": "code",
   "execution_count": null,
   "id": "d9542de8-0558-41b1-b31b-44c7d74d2caf",
   "metadata": {},
   "outputs": [],
   "source": [
    "# Load weather data: incident irradiation, direct irradiation, temperature, wind\n",
    "weather_data = pd.read_csv(DATA_PATH / \"xtrain.csv\", index_col=0) \n",
    "\n",
    "print(weather_data.head(10))"
   ]
  },
  {
   "cell_type": "code",
   "execution_count": null,
   "id": "206d2d00-3bfd-4870-9c1b-10cb2685417f",
   "metadata": {},
   "outputs": [],
   "source": [
    "# Make the figure interactive and enable to zoom\n",
    "%matplotlib widget \n",
    "# If the widget does not work, the line below switches to a regular figure\n",
    "#%matplotlib inline \n",
    "\n",
    "fig, (ax1, ax2) = plt.subplots(2, 1, figsize=(9,6), sharex=True)\n",
    "weather_data[\"temp_air\"].plot(ax=ax1, title=\"Ambient temperature [°C] as function of time\",ylabel=\"Temperature [°C]\")\n",
    "meteo_plot = weather_data[[\"ghi\",\"dhi\", \"dni\"]]\n",
    "meteo_plot.plot(ax=ax2, title=\"Irradiation [W/m2] as function of time\",ylabel=\"Irradiation [W/m2]\")\n",
    "plt.tight_layout()"
   ]
  },
  {
   "cell_type": "markdown",
   "id": "3e4334b5-db46-4aeb-a6c2-6b5c00b633ca",
   "metadata": {},
   "source": [
    "## 2. DC power estimation"
   ]
  },
  {
   "cell_type": "markdown",
   "id": "c01fc47d-e448-49f4-aa0f-b6d478dc5564",
   "metadata": {},
   "source": [
    "Modeling PV power from ghi/dhi/dni goes into three steps:\n",
    "\n",
    "1. Modeling the POA irradiance.\n",
    "2. Modeling the module cell temperature. \n",
    "3. Modeling the installation power production.\n"
   ]
  },
  {
   "cell_type": "markdown",
   "id": "7c4702cb-a14a-4103-8cae-dcb584ca9b1a",
   "metadata": {},
   "source": [
    "### 2.1. POA irradiance"
   ]
  },
  {
   "cell_type": "code",
   "execution_count": null,
   "id": "38799b21-557a-4b04-990d-0f20f13609bb",
   "metadata": {},
   "outputs": [],
   "source": [
    "# Installation orientation\n",
    "beta = 35 # tilt [°]\n",
    "azimuth = 180 # azimuth [°]"
   ]
  },
  {
   "cell_type": "markdown",
   "id": "da61aacb-0402-414b-88da-4911299bd0e1",
   "metadata": {},
   "source": [
    "## <span style=\"color: red\"> Exercice </span>\n",
    "\n",
    "Calculate the POA irradiance with the no-shading/isotropic assumption as introduced in the notebook \"python_intro_poa\""
   ]
  },
  {
   "cell_type": "code",
   "execution_count": null,
   "id": "be98750e-4374-4ea8-89b1-f7e586ecb716",
   "metadata": {},
   "outputs": [],
   "source": [
    "cos_aoi =  # Complete here\n"
   ]
  },
  {
   "cell_type": "code",
   "execution_count": null,
   "id": "077b2682-7233-4e18-a737-9d7fb1a2d90d",
   "metadata": {},
   "outputs": [],
   "source": [
    "data = pd.DataFrame(columns=[\"poa_b\", \"poa_d\",\" poa_grd\"])\n",
    "data[\"poa_b\"] = #\n",
    "data[\"poa_d\"] = \n",
    "data[\"poa_grd\"] ="
   ]
  },
  {
   "cell_type": "code",
   "execution_count": null,
   "id": "d5df7696-49b8-4d41-8c5a-c398d530f61b",
   "metadata": {},
   "outputs": [],
   "source": []
  },
  {
   "cell_type": "code",
   "execution_count": null,
   "id": "6131f3d5-3dd8-4b02-baa5-08aa4d69bb16",
   "metadata": {},
   "outputs": [],
   "source": []
  },
  {
   "cell_type": "markdown",
   "id": "b686a7c2-a1f8-4d23-a96c-2511db4b2b9a",
   "metadata": {},
   "source": [
    "### 2.2. Cell temperature model"
   ]
  },
  {
   "cell_type": "markdown",
   "id": "8f0f0366-ad27-4c35-99a4-bf529b5dbced",
   "metadata": {},
   "source": [
    "The cell temperature can be modeled according to:\n",
    "\n",
    "- Faiman model \n",
    "- Ross model"
   ]
  },
  {
   "cell_type": "code",
   "execution_count": null,
   "id": "98cf9ca4-685b-416f-8ee6-721beb973f58",
   "metadata": {},
   "outputs": [],
   "source": [
    "NOCT  = 43 # From datasheet\n",
    "\n",
    "# Generic coefficients for open-rack PV installation from Faiman study (Faiman, D. (2008). “Assessing the outdoor operating temperature of photovoltaic modules.” Progress in Photovoltaics 16(4): 307-315.)\n",
    "u_0 = 26.9 # W/(˚C.m2)\n",
    "u_1 = 6.2 # W.s/(˚C.m3)"
   ]
  },
  {
   "cell_type": "markdown",
   "id": "68ff0ed3-09db-4f0b-8481-12b7af90a878",
   "metadata": {},
   "source": [
    "## <span style=\"color: red\"> Exercice </span>\n",
    "\n",
    "Calculate the module temperature with the Ross or Faiman model"
   ]
  },
  {
   "cell_type": "code",
   "execution_count": null,
   "id": "fb0e08b2-c5f7-4b93-aeca-a714cae3d037",
   "metadata": {},
   "outputs": [],
   "source": [
    "t_mod = # Fill here"
   ]
  },
  {
   "cell_type": "markdown",
   "id": "e2d05471-57af-4a55-8094-5a3ee80eadda",
   "metadata": {},
   "source": [
    "### 2.3. DC power model"
   ]
  },
  {
   "cell_type": "code",
   "execution_count": null,
   "id": "6deac026-c68b-4a58-9f37-d728bff66c32",
   "metadata": {},
   "outputs": [],
   "source": [
    "Pdc_0 = 3900 #W\n",
    "gamma_pdc= -0.258 # %/°C"
   ]
  },
  {
   "cell_type": "markdown",
   "id": "9618c71d-b1ea-4c4c-afbf-6d884bda0d0d",
   "metadata": {},
   "source": [
    "## <span style=\"color: red\"> Exercice </span>\n",
    "\n",
    "Calculate the DC power with the PVsyst or Huld model"
   ]
  },
  {
   "cell_type": "code",
   "execution_count": null,
   "id": "caa14010-1f73-4008-aef3-1fc741ef8ac2",
   "metadata": {},
   "outputs": [],
   "source": []
  },
  {
   "cell_type": "markdown",
   "id": "09613917-3c2d-4a09-b8a4-b83cc7e5119d",
   "metadata": {},
   "source": [
    "## <span style=\"color: red\"> To go further </span>\n",
    "\n",
    "- What is the accuracy of the values compared to the real values imported below ?"
   ]
  },
  {
   "cell_type": "code",
   "execution_count": null,
   "id": "da8b69da-ae64-4112-b13e-345a97ee0ea4",
   "metadata": {},
   "outputs": [],
   "source": [
    "# Load actual data\n",
    "actual = pd.read_csv(DATA_PATH / \"ytrain.csv\", index_col=0) \n",
    "\n",
    "print(actual.head(10))"
   ]
  }
 ],
 "metadata": {
  "kernelspec": {
   "display_name": "Python 3 (ipykernel)",
   "language": "python",
   "name": "python3"
  },
  "language_info": {
   "codemirror_mode": {
    "name": "ipython",
    "version": 3
   },
   "file_extension": ".py",
   "mimetype": "text/x-python",
   "name": "python",
   "nbconvert_exporter": "python",
   "pygments_lexer": "ipython3",
   "version": "3.9.13"
  }
 },
 "nbformat": 4,
 "nbformat_minor": 5
}
