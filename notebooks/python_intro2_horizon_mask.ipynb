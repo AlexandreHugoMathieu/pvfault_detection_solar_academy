{
 "cells": [
  {
   "cell_type": "markdown",
   "id": "a8e68d4d-4713-40dc-ae12-af540142e82a",
   "metadata": {},
   "source": [
    "# (Quick) Python introduction and horizon mask effect"
   ]
  },
  {
   "cell_type": "markdown",
   "id": "b435eb14-346b-4e29-afdb-0a916d34d6f6",
   "metadata": {},
   "source": [
    "<table>\n",
    "  <tr>\n",
    "    <td><img src=\"https://raw.githubusercontent.com/AlexandreHugoMathieu/pvfault_detection_solar_academy/refs/heads/master/notebooks/logos/CSTB_logo.jpg\" width=\"200\" />\n",
    "    <td><img src=\"https://raw.githubusercontent.com/AlexandreHugoMathieu/pvfault_detection_solar_academy/refs/heads/master/notebooks/logos/Heliocity_logo.png\" width=\"200\" /> \n",
    "    <td><img src=\"https://raw.githubusercontent.com/AlexandreHugoMathieu/pvfault_detection_solar_academy/refs/heads/master/notebooks/logos/USMB_logo_horizontal.png\" width=\"200\" />\n",
    "  </tr>\n",
    "</table>\n",
    "\n",
    "<sub>Author: Alexandre MATHIEU, Phd Student, in collaboration Heliocity / CSTB / USMB (LOCIE). </sub>\n",
    "<sub>Phd thesis: Methodology development to guarantee building photovoltaic systems' performance including failure modelling</sub>"
   ]
  },
  {
   "cell_type": "markdown",
   "id": "9d92b2ea-1bb0-4c46-b31b-f82618f99df8",
   "metadata": {},
   "source": [
    "This notebook introduces how to use python to explore data and calculate the effect of shading with the horizon mask from PVGIS.\n",
    "\n",
    "It is broken down into two parts:\n",
    "\n",
    "1. **Python introduction**: The student will follow the python introduction and is invited to execute the cells.\n",
    "2. **Horizon mask effect**: The student is invited to apply the effect of shading on the horizon mask.\n",
    "\n",
    "The attendees are very much welcome to modify and create/execute some new notebook cells to explore data and try out new methods.\n",
    "\n",
    "**Make sure to manually execute the cells (ctrl + enter) yourself one by one**"
   ]
  },
  {
   "cell_type": "markdown",
   "id": "19538de8-a855-495d-8af2-4a474bcc5215",
   "metadata": {},
   "source": [
    "The students are expected to do the **exercices**."
   ]
  },
  {
   "cell_type": "markdown",
   "id": "d8019b42-2478-44ea-8ac6-4942b1ca8f81",
   "metadata": {},
   "source": [
    "## I. Python introduction\n",
    "\n",
    "In this introduction, 4 topics will be tackled:\n",
    "\n",
    "1. Filtering over a pandas Series or DataFrame\n",
    "2. Use \"If\" and Loops commands\n",
    "3. Make plots\n",
    "4. Create python functions"
   ]
  },
  {
   "cell_type": "code",
   "execution_count": null,
   "id": "93c095f4-4a24-41e8-b1c2-a6e2a2ecddd0",
   "metadata": {},
   "outputs": [],
   "source": [
    "import numpy as np # For math operations\n",
    "import pandas as pd # To create indexed-timeseries\n",
    "import matplotlib.pyplot as plt # To plot figures\n",
    "\n",
    "# Load satellite CAMs irradiance data from an online file\n",
    "urlw=\"https://raw.githubusercontent.com/AlexandreHugoMathieu/pvfault_detection_solar_academy/refs/heads/master/data/sat_data.csv\"\n",
    "weather_data = pd.read_csv(urlw, index_col=0)\n",
    "weather_data.index = pd.to_datetime(weather_data.index).tz_convert(\"Europe/Paris\")  # Convert the index to a datetime index and assign it to local time\n",
    "\n",
    "print(weather_data.dropna().head(20))  # Show the first 5 lines, (all in W/m2)"
   ]
  },
  {
   "cell_type": "code",
   "execution_count": null,
   "id": "1f479fa7-ac27-4bd0-9206-61a4ad044015",
   "metadata": {},
   "outputs": [],
   "source": [
    "# Load satellite position data calculated from NREL algorithm: I. Reda and A. Andreas, Solar position algorithm for solar radiation applications. Solar Energy, vol. 76, no. 5, pp. 577-589, 2004.\n",
    "# Stored in an online file\n",
    "urls= \"https://raw.githubusercontent.com/AlexandreHugoMathieu/pvfault_detection_solar_academy/refs/heads/master/data/solarpos_data.csv\"\n",
    "solar_position = pd.read_csv(urls, index_col=0)\n",
    "solar_position.index = pd.to_datetime(solar_position.index).tz_convert(\"Europe/Paris\")  # Convert the index to a datetime index and assign it to local time\n",
    "\n",
    "print(solar_position.dropna().head(5))  # Show the first 5 lines, (all in ° degree)"
   ]
  },
  {
   "cell_type": "markdown",
   "id": "0b66d602-4072-4027-9e67-6bd1aff63488",
   "metadata": {},
   "source": [
    "### I.1 Pandas Filtering\n",
    "\n",
    "When it comes to make calculations faster or select a specific chunk of the DataFrame, filtering can be usefull"
   ]
  },
  {
   "cell_type": "code",
   "execution_count": null,
   "id": "0bc41e7d-2fc1-4cad-ba10-ae5df1239bd2",
   "metadata": {},
   "outputs": [],
   "source": [
    "# Filter the dataframe when ghi is over a threshold\n",
    "filter = weather_data[\"ghi\"] > 100\n",
    "\n",
    "print(weather_data.loc[filter])\n",
    "\n",
    "# Plot it\n",
    "weather_data.loc[filter].plot(marker=\"o\")# Add markers"
   ]
  },
  {
   "cell_type": "code",
   "execution_count": null,
   "id": "1f4f3e93-3336-4843-b85b-eff82071d568",
   "metadata": {},
   "outputs": [],
   "source": [
    "# Sometimes we don't see much about the data and it can be interesting to filter on some dates\n",
    "filter_date = weather_data.index > pd.to_datetime(\"2022-11-01\").tz_localize(\"CET\") # Filter after the 1st of November\n",
    "weather_data.loc[filter_date].plot()"
   ]
  },
  {
   "cell_type": "code",
   "execution_count": null,
   "id": "544f1e5b-17a3-4073-98e0-449985c22f00",
   "metadata": {},
   "outputs": [],
   "source": [
    "# The filters can add up\n",
    "filter_all = filter | filter_date # or\n",
    "filter_all2 = filter & filter_date # and\n",
    "weather_data.loc[filter_all2].plot(marker=\"o\")"
   ]
  },
  {
   "cell_type": "code",
   "execution_count": null,
   "id": "28f2db41-d2e5-4790-8445-44afaa8a79cb",
   "metadata": {},
   "outputs": [],
   "source": [
    "# Note that only one column can also be selected according to a filter with the loc command\n",
    "print(weather_data.loc[filter_all2, \"ghi\"].head(5))"
   ]
  },
  {
   "cell_type": "markdown",
   "id": "1eb0b6ee-acee-4165-9973-2f3fa21034a6",
   "metadata": {},
   "source": [
    "#### Exercice\n",
    "\n",
    "Apply the following filters on weather_data with the condition \"or\":\n",
    "\n",
    "- ghi > 800 W/m2\n",
    "- between the 1st of July and the 1st of August\n",
    "\n",
    "And plot dhi only"
   ]
  },
  {
   "cell_type": "code",
   "execution_count": null,
   "id": "2b0991c1-1bf7-45c0-b0bf-d2794c90af8a",
   "metadata": {},
   "outputs": [],
   "source": []
  },
  {
   "cell_type": "markdown",
   "id": "2cd04c64-24ee-4652-a71e-43f3ed054785",
   "metadata": {},
   "source": [
    "## I.2. \"If\" and loops\n",
    "\n",
    "\"If\" allows to verify and execute actions with an assertion.\n",
    "\n",
    "On the other hand, loops enable to loop over all elements of a list or DataFrame for instance, to performance action on it."
   ]
  },
  {
   "cell_type": "code",
   "execution_count": null,
   "id": "62e527bf-2496-4670-9642-3b0c98721abb",
   "metadata": {},
   "outputs": [],
   "source": [
    "# \"If\" allows to execute the next row (with a tabulation to the right) if the assertion is True\n",
    "a=1\n",
    "if a<0: # assertion: is \"a\" under 0 ?\n",
    "    print(\"a is lower than 0\") # Line non executed since the assertion above is wrong"
   ]
  },
  {
   "cell_type": "code",
   "execution_count": null,
   "id": "a7e84800-0f2e-48ca-ab5b-7a1f0e742c50",
   "metadata": {},
   "outputs": [],
   "source": [
    "if a>0:\n",
    "    print(\"a is greater than 0\") # Line  executed since the assertion above is right"
   ]
  },
  {
   "cell_type": "code",
   "execution_count": null,
   "id": "265b191e-9838-4b78-8287-99381327d281",
   "metadata": {},
   "outputs": [],
   "source": [
    "# Sometimes operations can not be applied directly with pd.Series and loops allow to go through each element of a list or serie\n",
    "my_list = [\"element 1\",\"element 2\"]\n",
    "for element in my_list:\n",
    "    print(element)"
   ]
  },
  {
   "cell_type": "code",
   "execution_count": null,
   "id": "e3ef0b8c-f9c3-4de1-9941-cfe44ed6b032",
   "metadata": {},
   "outputs": [],
   "source": [
    "# It can be applied to pd.Series\n",
    "ts = pd.Series([1,2,3])\n",
    "for element in ts:\n",
    "    print(element**2)"
   ]
  },
  {
   "cell_type": "code",
   "execution_count": null,
   "id": "6fca40ac-613c-4e36-98e6-ddd94c7fb6a6",
   "metadata": {},
   "outputs": [],
   "source": [
    "# For dataFrame, one can use the \"iterrows\" method\n",
    "df = pd.DataFrame()\n",
    "df[\"column1\"] = [1,2,3]\n",
    "df[\"column2\"] = [1, 3, 5]\n",
    "print(df)"
   ]
  },
  {
   "cell_type": "code",
   "execution_count": null,
   "id": "22d40c1d-5fda-41c1-949d-6bf21569132c",
   "metadata": {},
   "outputs": [],
   "source": [
    "ts_stock = pd.Series(dtype=float) # Prepare the recipient to store the values\n",
    "\n",
    "for index, row in df.iterrows(): # Loop over all rows of the dataframe one by one\n",
    "    print(row[\"column1\"] + row[\"column2\"])\n",
    "    ts_stock.loc[index] = row[\"column1\"] + row[\"column2\"]"
   ]
  },
  {
   "cell_type": "code",
   "execution_count": null,
   "id": "e8dd64c6-66b3-4bee-862c-210486ab007d",
   "metadata": {},
   "outputs": [],
   "source": [
    "print(ts_stock)"
   ]
  },
  {
   "cell_type": "markdown",
   "id": "48d0cdb7-5127-495c-96f2-9f84055a8fa9",
   "metadata": {},
   "source": [
    "#### Exercice\n",
    "\n",
    "Create a new pd.Serie timeserie from df which have the same indexes and has a 1 in its row value if the sum over the df row is greater than 4, otherwise, assign 0"
   ]
  },
  {
   "cell_type": "code",
   "execution_count": null,
   "id": "51fa45ab-2396-4a5a-bbf5-8b8cdbdad374",
   "metadata": {},
   "outputs": [],
   "source": []
  },
  {
   "cell_type": "markdown",
   "id": "515b8839-6254-4b5e-97e0-8f2e31aff7d3",
   "metadata": {},
   "source": [
    "### I.3. Plots"
   ]
  },
  {
   "cell_type": "code",
   "execution_count": null,
   "id": "fee5464e-53fe-45c9-96b4-129ec755a0c6",
   "metadata": {},
   "outputs": [],
   "source": [
    "# Here is an example about how to make a plot with the matplotlib.pyplot library\n",
    "plt.plot(weather_data[\"ghi\"], weather_data[\"dni\"], linewidth=0, marker=\"o\")\n",
    "\n",
    "plt.xlabel('GHI [W/m2]')\n",
    "plt.ylabel('DNI [W/m2]')\n",
    "plt.title(\"My title\")"
   ]
  },
  {
   "cell_type": "markdown",
   "id": "dc671417-e1f4-43e6-aa21-3ff5d65a6239",
   "metadata": {},
   "source": [
    "### I.4. Functions\n",
    "\n",
    "Functions enable package small algorithms which are easy to apply and to re-use"
   ]
  },
  {
   "cell_type": "code",
   "execution_count": null,
   "id": "8420e9c0-4fea-42ef-83fa-2f615e68e806",
   "metadata": {},
   "outputs": [],
   "source": [
    "# Define the function \"\" with the \"def\" command and a small increment tab to the right\n",
    "def cos_aoi_function(beta, azimuth, sun_elevation, sun_azimuth):\n",
    "    cos_aoi = np.cos(beta* np.pi/180)*np.sin(sun_elevation*np.pi/180) +np.sin(beta*np.pi/180)*np.cos(sun_elevation*np.pi/180)*np.cos((azimuth-sun_azimuth)*np.pi/180)\n",
    "    return cos_aoi\n",
    "\n",
    "# Installation orientation\n",
    "beta = 20 # tilt [°]\n",
    "azimuth = 180 # azimuth [°]\n",
    "sun_elevation = 72 # sun elevation [°]\n",
    "s_azimuth = 173.9 # sun azimuth [°]\n",
    "\n",
    "cos_aoi = cos_aoi_function(beta, azimuth, sun_elevation, s_azimuth)\n",
    "print(cos_aoi)"
   ]
  },
  {
   "cell_type": "markdown",
   "id": "9f913851-3478-45a6-b141-926f20ba5998",
   "metadata": {},
   "source": [
    "#### Exercice\n",
    "\n",
    "Apply the function cos_aoi_function() on the pd.DataFrame \"solar_position\"\n"
   ]
  },
  {
   "cell_type": "code",
   "execution_count": null,
   "id": "5fce02b6-f501-40c0-94ba-af49062b4839",
   "metadata": {},
   "outputs": [],
   "source": []
  },
  {
   "cell_type": "markdown",
   "id": "9ae6f91e-c7a7-4868-b416-4f41ea344757",
   "metadata": {},
   "source": [
    "## II Mask Horizon effect\n",
    "\n",
    "<span style=\"color: red\"> Add the horizon file from PVGIS in the \"data\" folder by browsing on the left pan and indicate the filename below </span>"
   ]
  },
  {
   "cell_type": "code",
   "execution_count": null,
   "id": "5dd06571-ac9b-4cf3-a691-fa57b3fcc014",
   "metadata": {},
   "outputs": [],
   "source": [
    "# Indicate the csv-file path\n",
    "file =  \"https://raw.githubusercontent.com/AlexandreHugoMathieu/pvfault_detection_solar_academy/refs/heads/master/data/horizon_45.181_5.714.csv\" # for instance: \"content/horizon_45.181_5.714.csv\""
   ]
  },
  {
   "cell_type": "code",
   "execution_count": null,
   "id": "122a5dd6-9292-4659-aff4-63c7e6ee1239",
   "metadata": {},
   "outputs": [],
   "source": [
    "# Import the file into a pandas DataFrame  (skip some rows and add some arguments to make the dataframe clean))\n",
    "data = pd.read_csv(file, sep='\\t', skiprows=3, skipfooter=8, engine=\"python\").dropna(axis=1)\n",
    "\n",
    "# The following lines do some operations\n",
    "data = data[[\"A\", \"H_hor\"]] # Keep only the two relevant columns 'A' azimuth and \"H_hor\": Horizon line\n",
    "data.columns = [\"azimuth\", \"elevation\"] # Rename the columns\n",
    "data[\"azimuth\"] = data[\"azimuth\"] + 180 # Change the convention (to have the convention with 0° is North, 90° East etc...)\n",
    "data_ts = data.set_index(\"azimuth\").reindex(np.arange(0,360)).interpolate()[\"elevation\"] #\n",
    "\n",
    "# Print the 5 fist lines\n",
    "print(data_ts.head())  # pd.Series"
   ]
  },
  {
   "cell_type": "markdown",
   "id": "b1fa4e07-b7df-4ee9-bd43-46ef9767e1d3",
   "metadata": {},
   "source": [
    "#### Exercice \n",
    "\n",
    "a. Plot the elevation as function of the azimuth with matplotlib"
   ]
  },
  {
   "cell_type": "code",
   "execution_count": null,
   "id": "ec1e4c44-da56-439c-ac34-063fdaaa81b6",
   "metadata": {},
   "outputs": [],
   "source": [
    "# Develop your code here"
   ]
  },
  {
   "cell_type": "markdown",
   "id": "a31b4f2a-0d78-40bd-938c-01c9bad39118",
   "metadata": {},
   "source": [
    "b. Apply the shading effect on the direct POA component, ie if the sun elevation is under the horizon line, POAb = 0 W/m2\n",
    "\n",
    "Advice: You might want to create a loop over the dataframe which contains the POA data and calculate the shading elevation for each of its time step in a new column"
   ]
  },
  {
   "cell_type": "code",
   "execution_count": null,
   "id": "94875b92-95ca-4e2a-8322-e7db6c369a2b",
   "metadata": {},
   "outputs": [],
   "source": [
    "# Develop your code here"
   ]
  },
  {
   "cell_type": "code",
   "execution_count": null,
   "id": "5c9a6526-d3e8-45cb-931c-73fa98a30d62",
   "metadata": {},
   "outputs": [],
   "source": []
  }
 ],
 "metadata": {
  "kernelspec": {
   "display_name": "msa_2024",
   "language": "python",
   "name": "msa_2024"
  },
  "language_info": {
   "codemirror_mode": {
    "name": "ipython",
    "version": 3
   },
   "file_extension": ".py",
   "mimetype": "text/x-python",
   "name": "python",
   "nbconvert_exporter": "python",
   "pygments_lexer": "ipython3",
   "version": "3.9.13"
  }
 },
 "nbformat": 4,
 "nbformat_minor": 5
}
