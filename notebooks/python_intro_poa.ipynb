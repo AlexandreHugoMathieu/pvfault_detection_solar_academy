{
 "cells": [
  {
   "cell_type": "markdown",
   "id": "939579b5-174c-46aa-8d13-b8120f55a58f",
   "metadata": {},
   "source": [
    "# (Quick) Python introduction and POA calculation"
   ]
  },
  {
   "cell_type": "markdown",
   "id": "e1fd591d-a4db-40a3-8909-3242f8751afb",
   "metadata": {},
   "source": [
    "<table>\n",
    "  <tr>\n",
    "    <td><img src=\"https://raw.githubusercontent.com/AlexandreHugoMathieu/pvfault_detection_solar_academy/refs/heads/master/notebooks/logos/CSTB_logo.jpg\" width=\"200\" />\n",
    "    <td><img src=\"https://raw.githubusercontent.com/AlexandreHugoMathieu/pvfault_detection_solar_academy/refs/heads/master/notebooks/logos/Heliocity_logo.png\" width=\"200\" /> \n",
    "    <td><img src=\"https://raw.githubusercontent.com/AlexandreHugoMathieu/pvfault_detection_solar_academy/refs/heads/master/notebooks/logos/USMB_logo_horizontal.png\" width=\"200\" />\n",
    "  </tr>\n",
    "</table>\n",
    "\n",
    "<sub>Author: Alexandre MATHIEU, Phd Student, in collaboration Heliocity / CSTB / USMB (LOCIE). </sub>\n",
    "<sub>Phd thesis: Methodology development to guarantee building photovoltaic systems' performance including failure modelling</sub>\n"
   ]
  },
  {
   "cell_type": "markdown",
   "id": "14f76608-c316-403a-b5fd-507d529e0502",
   "metadata": {},
   "source": [
    "This notebook introduces how to use python to explore data and calculate the Plane Of Array (POA) irradiance components.\n",
    "\n",
    "It is broken down into two parts:\n",
    "\n",
    "1. **Python introduction**: The student will follow the python introduction and is invited to execute the cells.\n",
    "2. **POA calculation exercice**: The student is invited to calculate the POA components.\n",
    "\n",
    "The attendees are very much welcome to modify and create/execute some new notebook cells to explore data and try out new methods.\n",
    "\n",
    "The tutorial has been inspired from the PVSC-pvlib tutorial: https://pvsc-python-tutorials.github.io/PVSC48-Python-Tutorial\n",
    "\n",
    "**Make sure to manually execute the cells (ctrl + enter) yourself one by one**"
   ]
  },
  {
   "cell_type": "markdown",
   "id": "f4d61b47-9149-4212-880a-2e103f103844",
   "metadata": {},
   "source": [
    "The students are expected to do the **exercices**."
   ]
  },
  {
   "cell_type": "markdown",
   "id": "4939fdf7-d554-4294-8da8-772f4b3df71f",
   "metadata": {},
   "source": [
    "## I. Python Introduction"
   ]
  },
  {
   "cell_type": "markdown",
   "id": "7a075ae1-4376-4732-b4bf-589447329d03",
   "metadata": {},
   "source": [
    "Python is a programming language which enable to perform a large number of tasks from math operations through file explorations to data treatment.\n",
    "\n",
    "This section intends to provide usefull commands when coding in Python."
   ]
  },
  {
   "cell_type": "markdown",
   "id": "b0d6bd53-43bb-464c-907b-bcd85431a5b3",
   "metadata": {},
   "source": [
    "### I.1 Hello world\n",
    "\n",
    "Printing texts is necessary to show results or the progress of a script."
   ]
  },
  {
   "cell_type": "code",
   "execution_count": null,
   "id": "08beb3a9-32f7-492d-acf7-515fa1d76f9d",
   "metadata": {},
   "outputs": [],
   "source": [
    "# This is a code cell, and I am writing a comment which is not going to be executed thanks to the \"#\" character\n",
    "# \"#\" is very useful to comment and precise what the code does, feel free to use it !\n",
    "print(\"Hello world\") # I print \"hello world\""
   ]
  },
  {
   "cell_type": "code",
   "execution_count": null,
   "id": "086632d2-f2f4-42a6-9a05-cdcef1a6afd3",
   "metadata": {},
   "outputs": [],
   "source": [
    "my_text = \"Something\" # Write something here. It must be surrounded with \"\", otherwise it is going to crash \n",
    "print(my_text)"
   ]
  },
  {
   "cell_type": "code",
   "execution_count": null,
   "id": "f0b6c106-f885-4369-830f-071e16a94147",
   "metadata": {},
   "outputs": [],
   "source": [
    "# Include a variable in pre-defined text\n",
    "new_text = \"Olala\"\n",
    "print(f\"My pre-defined text and '{new_text}'\")"
   ]
  },
  {
   "cell_type": "markdown",
   "id": "f23835be-c25e-44ce-b197-719209fcf257",
   "metadata": {},
   "source": [
    "### I.2. Operations\n",
    "\n",
    "Basic operations can be fastened in Python."
   ]
  },
  {
   "cell_type": "code",
   "execution_count": null,
   "id": "0f5f3a73-2445-4adb-9aca-36cb0af1d13c",
   "metadata": {},
   "outputs": [],
   "source": [
    "a = 1 # assign 1 to the variable \"a\"\n",
    "print(a)"
   ]
  },
  {
   "cell_type": "code",
   "execution_count": null,
   "id": "7057e731-57b4-4bfa-8090-8db31ab315a7",
   "metadata": {},
   "outputs": [],
   "source": [
    "print(a + 2)\n",
    "print(a / 2)\n",
    "print(a * 2)"
   ]
  },
  {
   "cell_type": "code",
   "execution_count": null,
   "id": "5644a694-26c3-4ce7-b7dc-b9dca4ee8194",
   "metadata": {},
   "outputs": [],
   "source": [
    "b = 2 # assign 2 to the variable \"b\"\n",
    "print(a + b)\n",
    "print(a / b)\n",
    "print(a * b)"
   ]
  },
  {
   "cell_type": "code",
   "execution_count": null,
   "id": "72dbbed4-c265-4795-a7a8-bef4db2cade9",
   "metadata": {},
   "outputs": [],
   "source": [
    "# As mentionned earlier, some open-source libraries (with its functions) as numpy have some useful functions we can use\n",
    "import numpy as np # Import numpy and rename it \"np\"\n",
    "\n",
    "# mathematical constants\n",
    "print(np.pi)\n",
    "print(np.e)\n",
    "\n",
    "# trigonometric functions\n",
    "angle = np.pi/4\n",
    "print(np.sin(angle)) # 'np.sin()' expects radiants\n",
    "print(np.cos(angle))\n",
    "print(np.tan(angle))"
   ]
  },
  {
   "cell_type": "markdown",
   "id": "283b982d-92c4-487f-bfa9-728619db2ac2",
   "metadata": {},
   "source": [
    "#### Exercice\n",
    "\n",
    "Calculate the BHI if DNI = 1000 W/m2 and the elevation angle z=60°"
   ]
  },
  {
   "cell_type": "code",
   "execution_count": null,
   "id": "249462e2-af07-43a0-b4a5-dba326fd97f2",
   "metadata": {},
   "outputs": [],
   "source": []
  },
  {
   "cell_type": "markdown",
   "id": "9dfa9c8b-c78b-49b4-87f2-0503ec10a30a",
   "metadata": {},
   "source": [
    "### I.3 List, Series and DataFrame\n",
    "\n",
    "One way to arrange data is to use list, pandas Series or DataFrame"
   ]
  },
  {
   "cell_type": "code",
   "execution_count": null,
   "id": "f8b23dda-45f3-4cff-bfd0-ea444a7dc19d",
   "metadata": {},
   "outputs": [],
   "source": [
    "my_list = [1 , 2 ,3]\n",
    "print(my_list)"
   ]
  },
  {
   "cell_type": "code",
   "execution_count": null,
   "id": "1a4d97e0-2bc0-43b8-9290-fea44772c77f",
   "metadata": {},
   "outputs": [],
   "source": [
    "import pandas as pd # Import the package pandas and rename it \"pd.\"\n",
    "\n",
    "serie = pd.Series([1, 2,3]) # Create a serie\n",
    "serie2 = pd.Series([4, 5,6]) # Create a serie\n",
    "\n",
    "print(\"My first serie\")\n",
    "print(serie)\n",
    "print(\"\\n My second serie\")\n",
    "print(serie2)"
   ]
  },
  {
   "cell_type": "code",
   "execution_count": null,
   "id": "d9232377-620a-4e1c-84ac-64acaa1d84a5",
   "metadata": {},
   "outputs": [],
   "source": [
    "# A serie is more stuctured than a list and enables to make the calculations explicitly easier\n",
    "print(serie + serie2)"
   ]
  },
  {
   "cell_type": "code",
   "execution_count": null,
   "id": "52d137e9-5427-4274-9a39-9d6c59fb5329",
   "metadata": {},
   "outputs": [],
   "source": [
    "print(serie / serie2)"
   ]
  },
  {
   "cell_type": "code",
   "execution_count": null,
   "id": "ea0d00ca-10d7-4724-9dce-4e58ac9cfc38",
   "metadata": {},
   "outputs": [],
   "source": [
    "print(serie * serie2)"
   ]
  },
  {
   "cell_type": "code",
   "execution_count": null,
   "id": "4c9c3e20-4dcf-43e3-84a6-38d89697b293",
   "metadata": {},
   "outputs": [],
   "source": [
    "# You can still apply np operations on pd.Series ! \n",
    "np.cos(serie)"
   ]
  },
  {
   "cell_type": "code",
   "execution_count": null,
   "id": "582d8ad4-d1a0-4333-b21d-9ef8cf497c59",
   "metadata": {},
   "outputs": [],
   "source": [
    "# A serie is defined by its index and its value can be extracted according to the loc command\n",
    "print(serie.loc[0])"
   ]
  },
  {
   "cell_type": "code",
   "execution_count": null,
   "id": "b80691bd-8244-4d28-af31-802ae0e75b3e",
   "metadata": {},
   "outputs": [],
   "source": [
    "# When creating the Serie, we can associate an index when initiating the variable or we can also do it after\n",
    "serie = pd.Series([1, 2,3], index=[\"first_index\", \"second_index\", \"third_index\"]) # Create a serie\n",
    "serie2.index = [\"first_index\", \"second_index\", \"third_index\"]\n",
    "\n",
    "print(\"My first serie\")\n",
    "print(serie)\n",
    "print(\"My second serie\")\n",
    "print(serie2)\n",
    "\n",
    "print(\"\\n My serie2 selection\")\n",
    "serie2.loc[\"second_index\"]"
   ]
  },
  {
   "cell_type": "code",
   "execution_count": null,
   "id": "e887c9f0-d4f4-420e-af4e-c274c49b95cc",
   "metadata": {},
   "outputs": [],
   "source": [
    "# Pandas Series/DataFrame are particularly used with timeseries with the index being dates or times\n",
    "# For instance\n",
    "index= pd.date_range(\"20231101\", freq=\"H\", periods=3) # H for \"hour\", D can also be used for \"day\"\n",
    "serie_ts = pd.Series([1,2,3], index=index)\n",
    "print(serie_ts)"
   ]
  },
  {
   "cell_type": "code",
   "execution_count": null,
   "id": "3b703e60-f358-4d76-aa68-e0328fe51c95",
   "metadata": {},
   "outputs": [],
   "source": [
    "# And we can plot it (which is quite useful to explore data)\n",
    "serie_ts.plot(marker=\"o\")"
   ]
  },
  {
   "cell_type": "code",
   "execution_count": null,
   "id": "35c8a993-aa4f-4b70-8a12-74cca3a13675",
   "metadata": {},
   "outputs": [],
   "source": [
    "# We can also use a DataFrame to store several series in different columns (if they have the same index)\n",
    "data_df = pd.DataFrame() # Create an empty dataframe to store the series\n",
    "data_df[\"first_column\"] = serie\n",
    "data_df[\"second_column\"] = serie2\n",
    "print(data_df)"
   ]
  },
  {
   "cell_type": "code",
   "execution_count": null,
   "id": "883902ca-af80-4c53-83c3-6213b58b0d85",
   "metadata": {},
   "outputs": [],
   "source": [
    "# The same operations like np.cos(), np.sin() etc... can be done on pd.Series\n",
    "print(np.sin(data_df[\"second_column\"]))"
   ]
  },
  {
   "cell_type": "code",
   "execution_count": null,
   "id": "8895956f-9be3-4d7b-9735-7a1637948868",
   "metadata": {},
   "outputs": [],
   "source": [
    "# And plot it !\n",
    "data_df.plot() "
   ]
  },
  {
   "cell_type": "markdown",
   "id": "d275df63-2d95-4bba-bb87-e60227aa76bd",
   "metadata": {},
   "source": [
    "#### Exercice\n",
    "\n",
    "Create a dataframe:\n",
    "\n",
    "- With an DAILY datetime index starting from 2023-11-05 until 2023-11-08, included.\n",
    "- Two columns, with one that is the double of the first one\n",
    "\n",
    "and plot it."
   ]
  },
  {
   "cell_type": "code",
   "execution_count": null,
   "id": "be1fb272-1074-40cf-9a60-964b65742624",
   "metadata": {},
   "outputs": [],
   "source": []
  },
  {
   "cell_type": "markdown",
   "id": "e2c26b18-c1ac-4987-866f-0758118058e9",
   "metadata": {},
   "source": [
    "## II.  Exercices: POA calculation\n",
    "\n",
    "Let's use Python to compute POA components in a fast and (always) accurate way."
   ]
  },
  {
   "cell_type": "markdown",
   "id": "40e84429-5e30-41ac-963b-8922c5769633",
   "metadata": {},
   "source": [
    "### II.1 Calculate POA for one timestep\n",
    "\n",
    "- Under the isotropic/no-shading assumption\n",
    "- With the following values"
   ]
  },
  {
   "cell_type": "code",
   "execution_count": null,
   "id": "f752289e-41ac-4064-8b60-36fe5732e725",
   "metadata": {},
   "outputs": [],
   "source": [
    "# Installation orientation\n",
    "beta = 20 # tilt [°]\n",
    "azimuth = 180 # azimuth [°]\n",
    "\n",
    "# albedo\n",
    "rho = 0.2\n",
    "\n",
    "# Irradiance values\n",
    "DNI = 677.6 # W/m2\n",
    "GHI = 288.9 # W/m2 \n",
    "DHI = 67.9 # W/m2\n",
    "\n",
    "# Solar position\n",
    "s_z = 72.0 # elevation [°]\n",
    "s_azimuth = 173.9 # azimuth [°]"
   ]
  },
  {
   "cell_type": "code",
   "execution_count": null,
   "id": "da5c34d1-65f2-4308-88be-2f380037d923",
   "metadata": {},
   "outputs": [],
   "source": [
    "# The explicit way !\n",
    "cos_aoi = None #"
   ]
  },
  {
   "cell_type": "code",
   "execution_count": null,
   "id": "62d32785-35ab-4446-b40d-b26345e9a2a1",
   "metadata": {},
   "outputs": [],
   "source": []
  },
  {
   "cell_type": "markdown",
   "id": "cad06b24-2195-4850-b9fc-dc655e67ce39",
   "metadata": {},
   "source": [
    "### II.2 Calculate POA for one year from satellite data"
   ]
  },
  {
   "cell_type": "code",
   "execution_count": null,
   "id": "888ac512-ebd1-41a9-b4b8-c3e70c33184b",
   "metadata": {},
   "outputs": [],
   "source": [
    "import pandas as pd\n",
    "\n",
    "# Load satellite CAMs irradiance data from an online file\n",
    "urlw=\"https://raw.githubusercontent.com/AlexandreHugoMathieu/pvfault_detection_solar_academy/refs/heads/master/data/sat_data.csv\"\n",
    "weather_data = pd.read_csv(urlw, index_col=0)\n",
    "weather_data.index = pd.to_datetime(weather_data.index).tz_convert(\"Europe/Paris\")  # Convert the index to a datetime index and assign it to local time\n",
    "\n",
    "print(weather_data.dropna().head(20))  # Show the first 5 lines, (all in W/m2)"
   ]
  },
  {
   "cell_type": "code",
   "execution_count": null,
   "id": "07b1f84b-a7b8-4d76-a5aa-4091145ea1ca",
   "metadata": {},
   "outputs": [],
   "source": [
    "# Load satellite position data calculated from NREL algorithm: I. Reda and A. Andreas, Solar position algorithm for solar radiation applications. Solar Energy, vol. 76, no. 5, pp. 577-589, 2004.\n",
    "# Stored in an online file\n",
    "urls= \"https://raw.githubusercontent.com/AlexandreHugoMathieu/pvfault_detection_solar_academy/refs/heads/master/data/solarpos_data.csv\"\n",
    "solar_position = pd.read_csv(urls, index_col=0)\n",
    "solar_position.index = pd.to_datetime(solar_position.index).tz_convert(\"Europe/Paris\")  # Convert the index to a datetime index and assign it to local time\n",
    "\n",
    "print(solar_position.dropna().head(5))  # Show the first 5 lines, (all in ° degree)"
   ]
  },
  {
   "cell_type": "code",
   "execution_count": null,
   "id": "127f8c92-4f3e-4fd9-ba2f-262411720082",
   "metadata": {},
   "outputs": [],
   "source": [
    "# Please develop your code here to calculate POA  components on a timeserie"
   ]
  },
  {
   "cell_type": "code",
   "execution_count": null,
   "id": "bc5da489-d319-486c-bd70-7c048cc95c7f",
   "metadata": {},
   "outputs": [],
   "source": []
  }
 ],
 "metadata": {
  "kernelspec": {
   "display_name": "msa_2024",
   "language": "python",
   "name": "msa_2024"
  },
  "language_info": {
   "codemirror_mode": {
    "name": "ipython",
    "version": 3
   },
   "file_extension": ".py",
   "mimetype": "text/x-python",
   "name": "python",
   "nbconvert_exporter": "python",
   "pygments_lexer": "ipython3",
   "version": "3.9.13"
  }
 },
 "nbformat": 4,
 "nbformat_minor": 5
}
