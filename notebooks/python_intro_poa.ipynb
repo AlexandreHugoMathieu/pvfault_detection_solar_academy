{
 "cells": [
  {
   "cell_type": "markdown",
   "id": "939579b5-174c-46aa-8d13-b8120f55a58f",
   "metadata": {},
   "source": [
    "# (Quick) Python introduction and POA calculation"
   ]
  },
  {
   "cell_type": "markdown",
   "id": "e1fd591d-a4db-40a3-8909-3242f8751afb",
   "metadata": {},
   "source": [
    "<table>\n",
    "  <tr>\n",
    "    <td><img src=\"https://raw.githubusercontent.com/AlexandreHugoMathieu/pvfault_detection_solar_academy/refs/heads/master/notebooks/logos/CSTB_logo.jpg\" width=\"200\" />\n",
    "    <td><img src=\"https://raw.githubusercontent.com/AlexandreHugoMathieu/pvfault_detection_solar_academy/refs/heads/master/notebooks/logos/Heliocity_logo.png\" width=\"200\" /> \n",
    "    <td><img src=\"https://raw.githubusercontent.com/AlexandreHugoMathieu/pvfault_detection_solar_academy/refs/heads/master/notebooks/logos/USMB_logo_horizontal.png\" width=\"200\" />\n",
    "  </tr>\n",
    "</table>\n",
    "\n",
    "<sub>Author: Alexandre MATHIEU, Phd Student, in collaboration Heliocity / CSTB / USMB (LOCIE). </sub>\n",
    "<sub>Phd thesis: Methodology development to guarantee building photovoltaic systems' performance including failure modelling</sub>\n"
   ]
  },
  {
   "cell_type": "markdown",
   "id": "14f76608-c316-403a-b5fd-507d529e0502",
   "metadata": {},
   "source": [
    "This notebook introduces how to use python to explore data and calculate the Plane Of Array (POA) irradiance components.\n",
    "\n",
    "It is broken down into two parts:\n",
    "\n",
    "1. **Python introduction**: The student will follow the python introduction and is invited to execute the cells.\n",
    "2. **POA calculation exercice**: The student is invited to calculate the POA components.\n",
    "\n",
    "The attendees are very much welcome to modify and create/execute some new notebook cells to explore data and try out new methods.\n",
    "\n",
    "The tutorial has been inspired from the PVSC-pvlib tutorial: https://pvsc-python-tutorials.github.io/PVSC48-Python-Tutorial\n",
    "\n",
    "**Make sure to manually execute the cells (ctrl + enter) yourself one by one**"
   ]
  },
  {
   "cell_type": "markdown",
   "id": "f4d61b47-9149-4212-880a-2e103f103844",
   "metadata": {},
   "source": [
    "The students are expected to do the **exercices**."
   ]
  },
  {
   "cell_type": "markdown",
   "id": "4939fdf7-d554-4294-8da8-772f4b3df71f",
   "metadata": {},
   "source": [
    "## I. Python Introduction"
   ]
  },
  {
   "cell_type": "markdown",
   "id": "7a075ae1-4376-4732-b4bf-589447329d03",
   "metadata": {},
   "source": [
    "Python is a programming language which enable to perform a large number of tasks from math operations through file explorations to data treatment.\n",
    "\n",
    "This section intends to provide usefull commands when coding in Python."
   ]
  },
  {
   "cell_type": "markdown",
   "id": "b0d6bd53-43bb-464c-907b-bcd85431a5b3",
   "metadata": {},
   "source": [
    "### I.1 Hello world\n",
    "\n",
    "Printing texts is necessary to show results or the progress of a script."
   ]
  },
  {
   "cell_type": "code",
   "execution_count": 1,
   "id": "08beb3a9-32f7-492d-acf7-515fa1d76f9d",
   "metadata": {},
   "outputs": [
    {
     "name": "stdout",
     "output_type": "stream",
     "text": [
      "Hello world\n"
     ]
    }
   ],
   "source": [
    "# This is a code cell, and I am writing a comment which is not going to be executed thanks to the \"#\" character\n",
    "# \"#\" is very useful to comment and precise what the code does, feel free to use it !\n",
    "print(\"Hello world\") # I print \"hello world\""
   ]
  },
  {
   "cell_type": "code",
   "execution_count": 2,
   "id": "086632d2-f2f4-42a6-9a05-cdcef1a6afd3",
   "metadata": {},
   "outputs": [
    {
     "name": "stdout",
     "output_type": "stream",
     "text": [
      "Something\n"
     ]
    }
   ],
   "source": [
    "my_text = \"Something\" # Write something here. It must be surrounded with \"\", otherwise it is going to crash \n",
    "print(my_text)"
   ]
  },
  {
   "cell_type": "code",
   "execution_count": 3,
   "id": "f0b6c106-f885-4369-830f-071e16a94147",
   "metadata": {},
   "outputs": [
    {
     "name": "stdout",
     "output_type": "stream",
     "text": [
      "My pre-defined text and 'Olala'\n"
     ]
    }
   ],
   "source": [
    "# Include a variable in pre-defined text\n",
    "new_text = \"Olala\"\n",
    "print(f\"My pre-defined text and '{new_text}'\")"
   ]
  },
  {
   "cell_type": "markdown",
   "id": "f23835be-c25e-44ce-b197-719209fcf257",
   "metadata": {},
   "source": [
    "### I.2. Operations\n",
    "\n",
    "Basic operations can be fastened in Python."
   ]
  },
  {
   "cell_type": "code",
   "execution_count": 4,
   "id": "0f5f3a73-2445-4adb-9aca-36cb0af1d13c",
   "metadata": {},
   "outputs": [
    {
     "name": "stdout",
     "output_type": "stream",
     "text": [
      "1\n"
     ]
    }
   ],
   "source": [
    "a = 1 # assign 1 to the variable \"a\"\n",
    "print(a)"
   ]
  },
  {
   "cell_type": "code",
   "execution_count": 5,
   "id": "7057e731-57b4-4bfa-8090-8db31ab315a7",
   "metadata": {},
   "outputs": [
    {
     "name": "stdout",
     "output_type": "stream",
     "text": [
      "3\n",
      "0.5\n",
      "2\n"
     ]
    }
   ],
   "source": [
    "print(a + 2)\n",
    "print(a / 2)\n",
    "print(a * 2)"
   ]
  },
  {
   "cell_type": "code",
   "execution_count": 6,
   "id": "5644a694-26c3-4ce7-b7dc-b9dca4ee8194",
   "metadata": {},
   "outputs": [
    {
     "name": "stdout",
     "output_type": "stream",
     "text": [
      "3\n",
      "0.5\n",
      "2\n"
     ]
    }
   ],
   "source": [
    "b = 2 # assign 2 to the variable \"b\"\n",
    "print(a + b)\n",
    "print(a / b)\n",
    "print(a * b)"
   ]
  },
  {
   "cell_type": "code",
   "execution_count": 7,
   "id": "72dbbed4-c265-4795-a7a8-bef4db2cade9",
   "metadata": {},
   "outputs": [
    {
     "name": "stdout",
     "output_type": "stream",
     "text": [
      "3.141592653589793\n",
      "2.718281828459045\n",
      "0.7071067811865476\n",
      "0.7071067811865476\n",
      "0.9999999999999999\n"
     ]
    }
   ],
   "source": [
    "# As mentionned earlier, some open-source libraries (with its functions) as numpy have some useful functions we can use\n",
    "import numpy as np # Import numpy and rename it \"np\"\n",
    "\n",
    "# mathematical constants\n",
    "print(np.pi)\n",
    "print(np.e)\n",
    "\n",
    "# trigonometric functions\n",
    "angle = np.pi/4\n",
    "print(np.sin(angle)) # 'np.sin()' expects radiants\n",
    "print(np.cos(angle))\n",
    "print(np.tan(angle))"
   ]
  },
  {
   "cell_type": "markdown",
   "id": "283b982d-92c4-487f-bfa9-728619db2ac2",
   "metadata": {},
   "source": [
    "#### Exercice\n",
    "\n",
    "Calculate the BHI if DNI = 1000 W/m2 and the elevation angle z=60°"
   ]
  },
  {
   "cell_type": "code",
   "execution_count": 8,
   "id": "249462e2-af07-43a0-b4a5-dba326fd97f2",
   "metadata": {},
   "outputs": [
    {
     "name": "stdout",
     "output_type": "stream",
     "text": [
      "BHI: 866.0 W/m²\n"
     ]
    }
   ],
   "source": [
    "dni = 1000 # W / m2\n",
    "bhi = 1000 * np.cos((90-60)*np.pi/180)  # W / m2\n",
    "bhi_rounded = round(bhi,1) # Round the decimals\n",
    "print(f\"BHI: {bhi_rounded} W/m²\")"
   ]
  },
  {
   "cell_type": "markdown",
   "id": "9dfa9c8b-c78b-49b4-87f2-0503ec10a30a",
   "metadata": {},
   "source": [
    "### I.3 List, Series and DataFrame\n",
    "\n",
    "One way to arrange data is to use list, pandas Series or DataFrame"
   ]
  },
  {
   "cell_type": "code",
   "execution_count": 9,
   "id": "f8b23dda-45f3-4cff-bfd0-ea444a7dc19d",
   "metadata": {},
   "outputs": [
    {
     "name": "stdout",
     "output_type": "stream",
     "text": [
      "[1, 2, 3]\n"
     ]
    }
   ],
   "source": [
    "my_list = [1 , 2 ,3]\n",
    "print(my_list)"
   ]
  },
  {
   "cell_type": "code",
   "execution_count": 10,
   "id": "1a4d97e0-2bc0-43b8-9290-fea44772c77f",
   "metadata": {},
   "outputs": [
    {
     "name": "stdout",
     "output_type": "stream",
     "text": [
      "My first serie\n",
      "0    1\n",
      "1    2\n",
      "2    3\n",
      "dtype: int64\n",
      "\n",
      " My second serie\n",
      "0    4\n",
      "1    5\n",
      "2    6\n",
      "dtype: int64\n"
     ]
    }
   ],
   "source": [
    "import pandas as pd # Import the package pandas and rename it \"pd.\"\n",
    "\n",
    "serie = pd.Series([1, 2,3]) # Create a serie\n",
    "serie2 = pd.Series([4, 5,6]) # Create a serie\n",
    "\n",
    "print(\"My first serie\")\n",
    "print(serie)\n",
    "print(\"\\n My second serie\")\n",
    "print(serie2)"
   ]
  },
  {
   "cell_type": "code",
   "execution_count": 11,
   "id": "d9232377-620a-4e1c-84ac-64acaa1d84a5",
   "metadata": {},
   "outputs": [
    {
     "name": "stdout",
     "output_type": "stream",
     "text": [
      "0    5\n",
      "1    7\n",
      "2    9\n",
      "dtype: int64\n"
     ]
    }
   ],
   "source": [
    "# A serie is more stuctured than a list and enables to make the calculations explicitly easier\n",
    "print(serie + serie2)"
   ]
  },
  {
   "cell_type": "code",
   "execution_count": 12,
   "id": "52d137e9-5427-4274-9a39-9d6c59fb5329",
   "metadata": {},
   "outputs": [
    {
     "name": "stdout",
     "output_type": "stream",
     "text": [
      "0    0.25\n",
      "1    0.40\n",
      "2    0.50\n",
      "dtype: float64\n"
     ]
    }
   ],
   "source": [
    "print(serie / serie2)"
   ]
  },
  {
   "cell_type": "code",
   "execution_count": 13,
   "id": "ea0d00ca-10d7-4724-9dce-4e58ac9cfc38",
   "metadata": {},
   "outputs": [
    {
     "name": "stdout",
     "output_type": "stream",
     "text": [
      "0     4\n",
      "1    10\n",
      "2    18\n",
      "dtype: int64\n"
     ]
    }
   ],
   "source": [
    "print(serie * serie2)"
   ]
  },
  {
   "cell_type": "code",
   "execution_count": 14,
   "id": "4c9c3e20-4dcf-43e3-84a6-38d89697b293",
   "metadata": {},
   "outputs": [
    {
     "data": {
      "text/plain": [
       "0    0.540302\n",
       "1   -0.416147\n",
       "2   -0.989992\n",
       "dtype: float64"
      ]
     },
     "execution_count": 14,
     "metadata": {},
     "output_type": "execute_result"
    }
   ],
   "source": [
    "# You can still apply np operations on pd.Series ! \n",
    "np.cos(serie)"
   ]
  },
  {
   "cell_type": "code",
   "execution_count": 15,
   "id": "582d8ad4-d1a0-4333-b21d-9ef8cf497c59",
   "metadata": {},
   "outputs": [
    {
     "name": "stdout",
     "output_type": "stream",
     "text": [
      "1\n"
     ]
    }
   ],
   "source": [
    "# A serie is defined by its index and its value can be extracted according to the loc command\n",
    "print(serie.loc[0])"
   ]
  },
  {
   "cell_type": "code",
   "execution_count": 16,
   "id": "b80691bd-8244-4d28-af31-802ae0e75b3e",
   "metadata": {},
   "outputs": [
    {
     "name": "stdout",
     "output_type": "stream",
     "text": [
      "My first serie\n",
      "first_index     1\n",
      "second_index    2\n",
      "third_index     3\n",
      "dtype: int64\n",
      "My second serie\n",
      "first_index     4\n",
      "second_index    5\n",
      "third_index     6\n",
      "dtype: int64\n",
      "\n",
      " My serie2 selection\n"
     ]
    },
    {
     "data": {
      "text/plain": [
       "5"
      ]
     },
     "execution_count": 16,
     "metadata": {},
     "output_type": "execute_result"
    }
   ],
   "source": [
    "# When creating the Serie, we can associate an index when initiating the variable or we can also do it after\n",
    "serie = pd.Series([1, 2,3], index=[\"first_index\", \"second_index\", \"third_index\"]) # Create a serie\n",
    "serie2.index = [\"first_index\", \"second_index\", \"third_index\"]\n",
    "\n",
    "print(\"My first serie\")\n",
    "print(serie)\n",
    "print(\"My second serie\")\n",
    "print(serie2)\n",
    "\n",
    "print(\"\\n My serie2 selection\")\n",
    "serie2.loc[\"second_index\"]"
   ]
  },
  {
   "cell_type": "code",
   "execution_count": 17,
   "id": "e887c9f0-d4f4-420e-af4e-c274c49b95cc",
   "metadata": {},
   "outputs": [
    {
     "name": "stdout",
     "output_type": "stream",
     "text": [
      "2023-11-01 00:00:00    1\n",
      "2023-11-01 01:00:00    2\n",
      "2023-11-01 02:00:00    3\n",
      "Freq: H, dtype: int64\n"
     ]
    }
   ],
   "source": [
    "# Pandas Series/DataFrame are particularly used with timeseries with the index being dates or times\n",
    "# For instance\n",
    "index= pd.date_range(\"20231101\", freq=\"H\", periods=3) # H for \"hour\", D can also be used for \"day\"\n",
    "serie_ts = pd.Series([1,2,3], index=index)\n",
    "print(serie_ts)"
   ]
  },
  {
   "cell_type": "code",
   "execution_count": 18,
   "id": "3b703e60-f358-4d76-aa68-e0328fe51c95",
   "metadata": {},
   "outputs": [
    {
     "data": {
      "text/plain": [
       "<AxesSubplot:>"
      ]
     },
     "execution_count": 18,
     "metadata": {},
     "output_type": "execute_result"
    },
    {
     "data": {
      "image/png": "[encoded data removed]",
      "text/plain": [
       "<Figure size 432x288 with 1 Axes>"
      ]
     },
     "metadata": {
      "needs_background": "light"
     },
     "output_type": "display_data"
    }
   ],
   "source": [
    "# And we can plot it (which is quite useful to explore data)\n",
    "serie_ts.plot(marker=\"o\")"
   ]
  },
  {
   "cell_type": "code",
   "execution_count": 19,
   "id": "35c8a993-aa4f-4b70-8a12-74cca3a13675",
   "metadata": {},
   "outputs": [
    {
     "name": "stdout",
     "output_type": "stream",
     "text": [
      "              first_column  second_column\n",
      "first_index              1              4\n",
      "second_index             2              5\n",
      "third_index              3              6\n"
     ]
    }
   ],
   "source": [
    "# We can also use a DataFrame to store several series in different columns (if they have the same index)\n",
    "data_df = pd.DataFrame() # Create an empty dataframe to store the series\n",
    "data_df[\"first_column\"] = serie\n",
    "data_df[\"second_column\"] = serie2\n",
    "print(data_df)"
   ]
  },
  {
   "cell_type": "code",
   "execution_count": 20,
   "id": "883902ca-af80-4c53-83c3-6213b58b0d85",
   "metadata": {},
   "outputs": [
    {
     "name": "stdout",
     "output_type": "stream",
     "text": [
      "first_index    -0.756802\n",
      "second_index   -0.958924\n",
      "third_index    -0.279415\n",
      "Name: second_column, dtype: float64\n"
     ]
    }
   ],
   "source": [
    "# The same operations like np.cos(), np.sin() etc... can be done on pd.Series\n",
    "print(np.sin(data_df[\"second_column\"]))"
   ]
  },
  {
   "cell_type": "code",
   "execution_count": 21,
   "id": "8895956f-9be3-4d7b-9735-7a1637948868",
   "metadata": {},
   "outputs": [
    {
     "data": {
      "text/plain": [
       "<AxesSubplot:>"
      ]
     },
     "execution_count": 21,
     "metadata": {},
     "output_type": "execute_result"
    },
    {
     "data": {
      "image/png": "[encoded data removed]",
      "text/plain": [
       "<Figure size 432x288 with 1 Axes>"
      ]
     },
     "metadata": {
      "needs_background": "light"
     },
     "output_type": "display_data"
    }
   ],
   "source": [
    "# And plot it !\n",
    "data_df.plot() "
   ]
  },
  {
   "cell_type": "markdown",
   "id": "d275df63-2d95-4bba-bb87-e60227aa76bd",
   "metadata": {},
   "source": [
    "#### Exercice\n",
    "\n",
    "Create a dataframe:\n",
    "\n",
    "- With an DAILY datetime index starting from 2023-11-05 until 2023-11-08, included.\n",
    "- Two columns, with one that is the double of the first one\n",
    "\n",
    "and plot it."
   ]
  },
  {
   "cell_type": "code",
   "execution_count": 22,
   "id": "be1fb272-1074-40cf-9a60-964b65742624",
   "metadata": {},
   "outputs": [
    {
     "data": {
      "text/plain": [
       "<AxesSubplot:>"
      ]
     },
     "execution_count": 22,
     "metadata": {},
     "output_type": "execute_result"
    },
    {
     "data": {
      "image/png": "[encoded data removed]",
      "text/plain": [
       "<Figure size 432x288 with 1 Axes>"
      ]
     },
     "metadata": {
      "needs_background": "light"
     },
     "output_type": "display_data"
    }
   ],
   "source": [
    "import pandas as pd\n",
    "\n",
    "# Create the daily index with the \"freq\" argument, start from the 5th of November 2023 to the 8th, included\n",
    "index = pd.date_range(\"2023-11-05\", \"2023-11-08\", freq=\"D\")\n",
    "\n",
    "# Create a first timeserie with some values [1,2,3,4]\n",
    "serie_ts= pd.Series([1, 2, 3, 4], index=index)\n",
    "\n",
    "# Create another timeserie based on the first one\n",
    "serie_ts2 = serie_ts * 2\n",
    "\n",
    "# Create the dataframe object\n",
    "df = pd.DataFrame()\n",
    "\n",
    "# Fill the dataframe object with the pre-built timeseries\n",
    "df[\"column1\"] = serie_ts \n",
    "df[\"column2\"] = serie_ts2\n",
    "\n",
    "# Plot the result with \"x\" markers !\n",
    "df.plot(marker=\"x\")"
   ]
  },
  {
   "cell_type": "markdown",
   "id": "e2c26b18-c1ac-4987-866f-0758118058e9",
   "metadata": {},
   "source": [
    "## II.  Exercices: POA calculation\n",
    "\n",
    "Let's use Python to compute POA components in a fast and (always) accurate way."
   ]
  },
  {
   "cell_type": "markdown",
   "id": "40e84429-5e30-41ac-963b-8922c5769633",
   "metadata": {},
   "source": [
    "### II.1 Calculate POA for one timestep\n",
    "\n",
    "- Under the isotropic/no-shading assumption\n",
    "- With the following values"
   ]
  },
  {
   "cell_type": "code",
   "execution_count": 23,
   "id": "f752289e-41ac-4064-8b60-36fe5732e725",
   "metadata": {},
   "outputs": [],
   "source": [
    "# Installation orientation\n",
    "beta = 20 # tilt [°]\n",
    "azimuth = 180 # azimuth [°]\n",
    "\n",
    "# albedo\n",
    "rho = 0.2\n",
    "\n",
    "# Irradiance values\n",
    "DNI = 677.6 # W/m2\n",
    "GHI = 288.9 # W/m2 \n",
    "DHI = 67.9 # W/m2\n",
    "\n",
    "# Solar position\n",
    "s_z = 72.0 # elevation [°]\n",
    "s_azimuth = 173.9 # azimuth [°]"
   ]
  },
  {
   "cell_type": "code",
   "execution_count": 24,
   "id": "da5c34d1-65f2-4308-88be-2f380037d923",
   "metadata": {},
   "outputs": [
    {
     "name": "stdout",
     "output_type": "stream",
     "text": [
      "POAb = 676.78 W/m²\n",
      "POAd = 65.85 W/m²\n",
      "POAgrd = 1.74 W/m²\n",
      "POA global = 744.38 W/m²\n"
     ]
    }
   ],
   "source": [
    "# The explicit way !\n",
    "\n",
    "# Calculate the cos(AOI) first\n",
    "cos_aoi = np.cos(beta* np.pi/180)*np.sin(s_z*np.pi/180) +np.sin(beta*np.pi/180)*np.cos(s_z*np.pi/180)*np.cos((azimuth-s_azimuth)*np.pi/180)\n",
    "\n",
    "POAb = DNI * cos_aoi # Beam component\n",
    "\n",
    "POAd = DHI * (1 + np.cos(beta* np.pi/180))/2 # Diffuse component\n",
    "\n",
    "POAgrd = GHI  * rho* (1 - np.cos(beta* np.pi/180))/2 # Ground-reflected component\n",
    " \n",
    "POA = POAb + POAd + POAgrd # Global component\n",
    "\n",
    "print(f\"POAb = {round(POAb,2)} W/m²\")\n",
    "print(f\"POAd = {round(POAd,2)} W/m²\")\n",
    "print(f\"POAgrd = {round(POAgrd,2)} W/m²\")\n",
    "print(f\"POA global = {round(POA,2)} W/m²\")"
   ]
  },
  {
   "cell_type": "code",
   "execution_count": 25,
   "id": "62d32785-35ab-4446-b40d-b26345e9a2a1",
   "metadata": {},
   "outputs": [
    {
     "name": "stdout",
     "output_type": "stream",
     "text": [
      "OrderedDict([('poa_global', 744.3765776974298), ('poa_direct', 676.7817330362531), ('poa_diffuse', 67.59484466117671), ('poa_sky_diffuse', 65.8525644756816), ('poa_ground_diffuse', 1.7422801854951055)])\n",
      "\n",
      "\n",
      "poa_global: 744.4 W/m²\n",
      "poa_direct: 676.8 W/m²\n",
      "poa_diffuse: 67.6 W/m²\n",
      "poa_sky_diffuse: 65.9 W/m²\n",
      "poa_ground_diffuse: 1.7 W/m²\n"
     ]
    }
   ],
   "source": [
    "# The lazy way with the function \"get_total_irradiance\" from pvlib package\n",
    "from pvlib.irradiance import get_total_irradiance\n",
    "\n",
    "# It needs the the solar zenith as inputs\n",
    "s_zenith = 90 - s_z # Solar zenith\n",
    "\n",
    "# Notice it takes degrees as inputs\n",
    "results = get_total_irradiance(beta, azimuth, s_zenith, s_azimuth, DNI, GHI, DHI, albedo=rho) \n",
    "\n",
    "print(results)\n",
    "\n",
    "print(\"\\n\") # Go back to the line\n",
    "\n",
    "# \"results\" is a \"Ordered\" dictionnary and its \".items()\" method can be browsed through according to a for loop\n",
    "for k, value in results.items():\n",
    "    print(f\"{k}: {round(value, 1)} W/m²\")"
   ]
  },
  {
   "cell_type": "markdown",
   "id": "cad06b24-2195-4850-b9fc-dc655e67ce39",
   "metadata": {},
   "source": [
    "### II.2 Calculate POA for one year from satellite data"
   ]
  },
  {
   "cell_type": "code",
   "execution_count": 26,
   "id": "888ac512-ebd1-41a9-b4b8-c3e70c33184b",
   "metadata": {},
   "outputs": [
    {
     "name": "stdout",
     "output_type": "stream",
     "text": [
      "                                ghi      dhi       dni\n",
      "2022-01-01 01:00:00+01:00    0.0000   0.0000    0.0000\n",
      "2022-01-01 02:00:00+01:00    0.0000   0.0000    0.0000\n",
      "2022-01-01 03:00:00+01:00    0.0000   0.0000    0.0000\n",
      "2022-01-01 04:00:00+01:00    0.0000   0.0000    0.0000\n",
      "2022-01-01 05:00:00+01:00    0.0000   0.0000    0.0000\n",
      "2022-01-01 06:00:00+01:00    0.0000   0.0000    0.0000\n",
      "2022-01-01 07:00:00+01:00    0.0000   0.0000    0.0000\n",
      "2022-01-01 08:00:00+01:00    0.6882   0.6074    1.1661\n",
      "2022-01-01 09:00:00+01:00   59.1956  25.4935  337.4030\n",
      "2022-01-01 10:00:00+01:00  150.5869  61.0075  471.0327\n",
      "2022-01-01 11:00:00+01:00  248.1986  63.4317  677.5654\n",
      "2022-01-01 12:00:00+01:00  281.0088  84.9074  633.1003\n",
      "2022-01-01 13:00:00+01:00  288.8650  67.8544  723.7922\n",
      "2022-01-01 14:00:00+01:00  225.3259  70.7458  596.6607\n",
      "2022-01-01 15:00:00+01:00  147.1628  48.1738  544.8499\n",
      "2022-01-01 16:00:00+01:00   39.9784  20.9257  214.4652\n",
      "2022-01-01 17:00:00+01:00    0.0000   0.0000    0.0000\n",
      "2022-01-01 18:00:00+01:00    0.0000   0.0000    0.0000\n",
      "2022-01-01 19:00:00+01:00    0.0000   0.0000    0.0000\n",
      "2022-01-01 20:00:00+01:00    0.0000   0.0000    0.0000\n"
     ]
    }
   ],
   "source": [
    "import pandas as pd\n",
    "\n",
    "# Load satellite CAMs irradiance data from an online file\n",
    "urlw=\"https://raw.githubusercontent.com/AlexandreHugoMathieu/pvfault_detection_solar_academy/refs/heads/master/data/sat_data.csv\"\n",
    "weather_data = pd.read_csv(urlw, index_col=0)\n",
    "weather_data.index = pd.to_datetime(weather_data.index).tz_convert(\"Europe/Paris\")  # Convert the index to a datetime index and assign it to local time\n",
    "\n",
    "print(weather_data.dropna().head(20))  # Show the first 5 lines, (all in W/m2)"
   ]
  },
  {
   "cell_type": "code",
   "execution_count": 27,
   "id": "07b1f84b-a7b8-4d76-a5aa-4091145ea1ca",
   "metadata": {},
   "outputs": [
    {
     "name": "stdout",
     "output_type": "stream",
     "text": [
      "                               zenith     azimuth\n",
      "2022-01-01 01:00:00+01:00  153.182717  317.064974\n",
      "2022-01-01 02:00:00+01:00  153.182717   17.989233\n",
      "2022-01-01 03:00:00+01:00  148.059897   44.354858\n",
      "2022-01-01 04:00:00+01:00  140.071691   63.762450\n",
      "2022-01-01 05:00:00+01:00  130.744429   78.384802\n"
     ]
    }
   ],
   "source": [
    "# Load satellite position data calculated from NREL algorithm: I. Reda and A. Andreas, Solar position algorithm for solar radiation applications. Solar Energy, vol. 76, no. 5, pp. 577-589, 2004.\n",
    "# Stored in an online file\n",
    "urls= \"https://raw.githubusercontent.com/AlexandreHugoMathieu/pvfault_detection_solar_academy/refs/heads/master/data/solarpos_data.csv\"\n",
    "solar_position = pd.read_csv(urls, index_col=0)\n",
    "solar_position.index = pd.to_datetime(solar_position.index).tz_convert(\"Europe/Paris\")  # Convert the index to a datetime index and assign it to local time\n",
    "\n",
    "print(solar_position.dropna().head(5))  # Show the first 5 lines, (all in ° degree)"
   ]
  },
  {
   "cell_type": "code",
   "execution_count": 28,
   "id": "127f8c92-4f3e-4fd9-ba2f-262411720082",
   "metadata": {},
   "outputs": [
    {
     "data": {
      "text/plain": [
       "<AxesSubplot:>"
      ]
     },
     "execution_count": 28,
     "metadata": {},
     "output_type": "execute_result"
    },
    {
     "data": {
      "image/png": "[encoded data removed]",
      "text/plain": [
       "<Figure size 432x288 with 1 Axes>"
      ]
     },
     "metadata": {
      "needs_background": "light"
     },
     "output_type": "display_data"
    }
   ],
   "source": [
    "# The explicit way\n",
    "s_z = 90- solar_position[\"zenith\"] # elevation\n",
    "s_azimuth = solar_position[\"azimuth\"]\n",
    "\n",
    "# Calculate the cos(AOI) first\n",
    "cos_aoi = np.cos(beta* np.pi/180)*np.sin(s_z*np.pi/180) +np.sin(beta*np.pi/180)*np.cos(s_z*np.pi/180)*np.cos((azimuth-s_azimuth)*np.pi/180)\n",
    "\n",
    "# Calculate all components and sum them up into \"POAg\"\n",
    "POAb = (weather_data[\"dni\"] * cos_aoi).clip(lower=0) ###\n",
    "POAd =  weather_data[\"dhi\"] * (1 + np.cos(beta* np.pi/180))/2\n",
    "POAgrd =  weather_data[\"ghi\"]  * rho* (1 - np.cos(beta* np.pi/180))/2\n",
    "POAg = POAb + POAd + POAgrd\n",
    "\n",
    "# Store the calculated components which are timeseries in a dataframe\n",
    "data = pd.DataFrame()\n",
    "data[\"poa_b\"] = POAb\n",
    "data[\"poa_d\"] = POAd\n",
    "data[\"poa_grd\"] = POAgrd\n",
    "data[\"poa\"] = POAg\n",
    "\n",
    "# Plot the data between the 01/07/2022 and 15/07/2022 with the \".loc\" method\n",
    "data.loc[\"20220701\":\"20220715\"].plot()"
   ]
  },
  {
   "cell_type": "code",
   "execution_count": 29,
   "id": "bc5da489-d319-486c-bd70-7c048cc95c7f",
   "metadata": {},
   "outputs": [
    {
     "data": {
      "text/plain": [
       "<AxesSubplot:>"
      ]
     },
     "execution_count": 29,
     "metadata": {},
     "output_type": "execute_result"
    },
    {
     "data": {
      "image/png": "[encoded data removed]",
      "text/plain": [
       "<Figure size 432x288 with 1 Axes>"
      ]
     },
     "metadata": {
      "needs_background": "light"
     },
     "output_type": "display_data"
    }
   ],
   "source": [
    "# The lazy way with the pvlib package\n",
    "from pvlib.irradiance import get_total_irradiance\n",
    "\n",
    "# Notice it takes degrees as inputs\n",
    "data = get_total_irradiance(beta, azimuth, solar_position[\"zenith\"], solar_position[\"azimuth\"], weather_data[\"dni\"], \n",
    "                            weather_data[\"ghi\"], weather_data[\"dhi\"], albedo=rho)\n",
    "\n",
    "# Plot the data between the 01/07/2022 and 15/07/2022 with the \".loc\" method\n",
    "data.loc[\"20220701\":\"20220715\"].plot()"
   ]
  }
 ],
 "metadata": {
  "kernelspec": {
   "display_name": "msa_2024",
   "language": "python",
   "name": "msa_2024"
  },
  "language_info": {
   "codemirror_mode": {
    "name": "ipython",
    "version": 3
   },
   "file_extension": ".py",
   "mimetype": "text/x-python",
   "name": "python",
   "nbconvert_exporter": "python",
   "pygments_lexer": "ipython3",
   "version": "3.9.13"
  }
 },
 "nbformat": 4,
 "nbformat_minor": 5
}
